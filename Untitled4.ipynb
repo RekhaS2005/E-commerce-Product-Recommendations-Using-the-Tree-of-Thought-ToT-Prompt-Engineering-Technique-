{
  "nbformat": 4,
  "nbformat_minor": 0,
  "metadata": {
    "colab": {
      "provenance": []
    },
    "kernelspec": {
      "name": "python3",
      "display_name": "Python 3"
    },
    "language_info": {
      "name": "python"
    }
  },
  "cells": [
    {
      "cell_type": "code",
      "execution_count": 9,
      "metadata": {
        "id": "F-oiywBk8lmA"
      },
      "outputs": [],
      "source": [
        "# Import necessary libraries\n",
        "import numpy as np\n",
        "import pandas as pd\n",
        "from sklearn.metrics.pairwise import cosine_similarity\n"
      ]
    },
    {
      "cell_type": "code",
      "source": [
        "# Create a sample user-product interaction matrix\n",
        "data = {\n",
        "    'User': ['A', 'B', 'C', 'D'],\n",
        "    'Product 1': [5, 4, 0, 0],\n",
        "    'Product 2': [4, 0, 0, 3],\n",
        "    'Product 3': [0, 0, 5, 4],\n",
        "    'Product 4': [0, 3, 4, 5]\n",
        "}\n",
        "df = pd.DataFrame(data).set_index('User')\n",
        "\n",
        "# Display the dataset\n",
        "print(\"User-Product Interaction Matrix:\")\n",
        "print(df)\n"
      ],
      "metadata": {
        "colab": {
          "base_uri": "https://localhost:8080/"
        },
        "id": "GGGJIqph89GK",
        "outputId": "13d81796-9122-4e7e-f09a-f66823985d09"
      },
      "execution_count": 10,
      "outputs": [
        {
          "output_type": "stream",
          "name": "stdout",
          "text": [
            "User-Product Interaction Matrix:\n",
            "      Product 1  Product 2  Product 3  Product 4\n",
            "User                                            \n",
            "A             5          4          0          0\n",
            "B             4          0          0          3\n",
            "C             0          0          5          4\n",
            "D             0          3          4          5\n"
          ]
        }
      ]
    },
    {
      "cell_type": "code",
      "source": [
        "# Define a function for user-based similarity\n",
        "def user_based_similarity(df):\n",
        "    user_similarity = cosine_similarity(df.fillna(0))\n",
        "    user_similarity_df = pd.DataFrame(user_similarity, index=df.index, columns=df.index)\n",
        "    return user_similarity_df\n",
        "\n",
        "# Compute and display the user-based similarity matrix\n",
        "user_sim = user_based_similarity(df)\n",
        "print(\"User-Based Similarity Matrix:\")\n",
        "print(user_sim)\n"
      ],
      "metadata": {
        "colab": {
          "base_uri": "https://localhost:8080/"
        },
        "id": "3GNFjlN689Oh",
        "outputId": "fd703a41-0093-47c0-a422-ef33251c1781"
      },
      "execution_count": 11,
      "outputs": [
        {
          "output_type": "stream",
          "name": "stdout",
          "text": [
            "User-Based Similarity Matrix:\n",
            "User         A         B         C         D\n",
            "User                                        \n",
            "A     1.000000  0.624695  0.000000  0.265036\n",
            "B     0.624695  1.000000  0.374817  0.424264\n",
            "C     0.000000  0.374817  1.000000  0.883452\n",
            "D     0.265036  0.424264  0.883452  1.000000\n"
          ]
        }
      ]
    },
    {
      "cell_type": "code",
      "source": [
        "# Define a function for item-based similarity\n",
        "def item_based_similarity(df):\n",
        "    item_similarity = cosine_similarity(df.fillna(0).T)\n",
        "    item_similarity_df = pd.DataFrame(item_similarity, index=df.columns, columns=df.columns)\n",
        "    return item_similarity_df\n",
        "\n",
        "# Compute and display the item-based similarity matrix\n",
        "item_sim = item_based_similarity(df)\n",
        "print(\"Item-Based Similarity Matrix:\")\n",
        "print(item_sim)\n"
      ],
      "metadata": {
        "colab": {
          "base_uri": "https://localhost:8080/"
        },
        "id": "o-Wb0J2E9Cz-",
        "outputId": "25c5ba4c-e9a5-41ce-efb0-a22da30ee183"
      },
      "execution_count": 12,
      "outputs": [
        {
          "output_type": "stream",
          "name": "stdout",
          "text": [
            "Item-Based Similarity Matrix:\n",
            "           Product 1  Product 2  Product 3  Product 4\n",
            "Product 1   1.000000   0.624695   0.000000   0.265036\n",
            "Product 2   0.624695   1.000000   0.374817   0.424264\n",
            "Product 3   0.000000   0.374817   1.000000   0.883452\n",
            "Product 4   0.265036   0.424264   0.883452   1.000000\n"
          ]
        }
      ]
    },
    {
      "cell_type": "code",
      "source": [
        "# Define a function to integrate user feedback\n",
        "def feedback_integration(df):\n",
        "    feedback_scores = df.mean(axis=0)  # Average ratings as feedback score\n",
        "    return feedback_scores\n",
        "\n",
        "# Compute and display feedback scores for products\n",
        "feedback_scores = feedback_integration(df)\n",
        "print(\"Feedback Scores for Products:\")\n",
        "print(feedback_scores)\n"
      ],
      "metadata": {
        "colab": {
          "base_uri": "https://localhost:8080/"
        },
        "id": "FUTUj9Gg9C25",
        "outputId": "e73bc544-c526-4d6f-bee6-f4bcc7fee3e6"
      },
      "execution_count": 13,
      "outputs": [
        {
          "output_type": "stream",
          "name": "stdout",
          "text": [
            "Feedback Scores for Products:\n",
            "Product 1    2.25\n",
            "Product 2    1.75\n",
            "Product 3    2.25\n",
            "Product 4    3.00\n",
            "dtype: float64\n"
          ]
        }
      ]
    },
    {
      "cell_type": "code",
      "source": [
        "# Combine results from all branches to make recommendations\n",
        "def make_recommendations(df):\n",
        "    user_sim = user_based_similarity(df)\n",
        "    item_sim = item_based_similarity(df)\n",
        "    feedback_scores = feedback_integration(df)\n",
        "\n",
        "    # Example: Print results of branches\n",
        "    print(\"User-Based Similarity Matrix:\")\n",
        "    print(user_sim)\n",
        "\n",
        "    print(\"\\nItem-Based Similarity Matrix:\")\n",
        "    print(item_sim)\n",
        "\n",
        "    print(\"\\nFeedback Scores for Products:\")\n",
        "    print(feedback_scores)\n",
        "\n",
        "# Call the function to make recommendations\n",
        "make_recommendations(df)\n"
      ],
      "metadata": {
        "colab": {
          "base_uri": "https://localhost:8080/"
        },
        "id": "OTAT3Z8I9Kzh",
        "outputId": "91e07dab-8857-44ed-e3de-0ec77647033a"
      },
      "execution_count": 14,
      "outputs": [
        {
          "output_type": "stream",
          "name": "stdout",
          "text": [
            "User-Based Similarity Matrix:\n",
            "User         A         B         C         D\n",
            "User                                        \n",
            "A     1.000000  0.624695  0.000000  0.265036\n",
            "B     0.624695  1.000000  0.374817  0.424264\n",
            "C     0.000000  0.374817  1.000000  0.883452\n",
            "D     0.265036  0.424264  0.883452  1.000000\n",
            "\n",
            "Item-Based Similarity Matrix:\n",
            "           Product 1  Product 2  Product 3  Product 4\n",
            "Product 1   1.000000   0.624695   0.000000   0.265036\n",
            "Product 2   0.624695   1.000000   0.374817   0.424264\n",
            "Product 3   0.000000   0.374817   1.000000   0.883452\n",
            "Product 4   0.265036   0.424264   0.883452   1.000000\n",
            "\n",
            "Feedback Scores for Products:\n",
            "Product 1    2.25\n",
            "Product 2    1.75\n",
            "Product 3    2.25\n",
            "Product 4    3.00\n",
            "dtype: float64\n"
          ]
        }
      ]
    },
    {
      "cell_type": "code",
      "source": [
        "# Modify this cell to add new user interactions or test the model with your own data\n",
        "# Example: Add a new user 'E'\n",
        "new_data = {\n",
        "    'User': ['E'],\n",
        "    'Product 1': [3],\n",
        "    'Product 2': [5],\n",
        "    'Product 3': [2],\n",
        "    'Product 4': [0]\n",
        "}\n",
        "new_df = pd.DataFrame(new_data).set_index('User')\n",
        "df = pd.concat([df, new_df])\n",
        "\n",
        "print(\"Updated User-Product Interaction Matrix:\")\n",
        "print(df)\n"
      ],
      "metadata": {
        "colab": {
          "base_uri": "https://localhost:8080/"
        },
        "id": "IMa_Lnws9C6d",
        "outputId": "62f3290e-b1cd-4988-9dd4-573b510efe57"
      },
      "execution_count": 15,
      "outputs": [
        {
          "output_type": "stream",
          "name": "stdout",
          "text": [
            "Updated User-Product Interaction Matrix:\n",
            "      Product 1  Product 2  Product 3  Product 4\n",
            "User                                            \n",
            "A             5          4          0          0\n",
            "B             4          0          0          3\n",
            "C             0          0          5          4\n",
            "D             0          3          4          5\n",
            "E             3          5          2          0\n"
          ]
        }
      ]
    }
  ]
}